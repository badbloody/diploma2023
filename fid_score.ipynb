{
  "nbformat": 4,
  "nbformat_minor": 0,
  "metadata": {
    "colab": {
      "provenance": [],
      "gpuType": "T4",
      "authorship_tag": "ABX9TyPjWbRm7AbLCWGd4Oe80RjO",
      "include_colab_link": true
    },
    "kernelspec": {
      "name": "python3",
      "display_name": "Python 3"
    },
    "language_info": {
      "name": "python"
    },
    "accelerator": "GPU"
  },
  "cells": [
    {
      "cell_type": "markdown",
      "metadata": {
        "id": "view-in-github",
        "colab_type": "text"
      },
      "source": [
        "<a href=\"https://colab.research.google.com/github/badbloody/diploma2023/blob/main/fid_score.ipynb\" target=\"_parent\"><img src=\"https://colab.research.google.com/assets/colab-badge.svg\" alt=\"Open In Colab\"/></a>"
      ]
    },
    {
      "cell_type": "code",
      "source": [
        "from google.colab import drive\n",
        "drive.mount('/content/gdrive')"
      ],
      "metadata": {
        "colab": {
          "base_uri": "https://localhost:8080/"
        },
        "id": "HT75BfvIAHbc",
        "outputId": "90fce3ce-c11d-4d02-f635-54f107bc16af"
      },
      "execution_count": 1,
      "outputs": [
        {
          "output_type": "stream",
          "name": "stdout",
          "text": [
            "Mounted at /content/gdrive\n"
          ]
        }
      ]
    },
    {
      "cell_type": "code",
      "source": [
        "import numpy as np\n",
        "import tensorflow as tf\n",
        "from numpy import cov\n",
        "from numpy import trace\n",
        "from numpy import iscomplexobj\n",
        "from numpy import asarray\n",
        "from numpy.random import shuffle\n",
        "from scipy.linalg import sqrtm\n",
        "from keras.applications.inception_v3 import InceptionV3\n",
        "from keras.applications.inception_v3 import preprocess_input\n",
        "from skimage.transform import resize\n",
        "import os\n",
        "from PIL import Image"
      ],
      "metadata": {
        "id": "WY5o1FywwFaL"
      },
      "execution_count": 2,
      "outputs": []
    },
    {
      "cell_type": "code",
      "source": [
        "# scale an array of images to a new size\n",
        "def scale_images(images, new_shape):\n",
        "    images_list = list()\n",
        "    for image in images:\n",
        "        # resize with nearest neighbor interpolation\n",
        "        new_image = resize(image, new_shape, 0)\n",
        "\n",
        "        # store\n",
        "        images_list.append(new_image)\n",
        "    return asarray(images_list)"
      ],
      "metadata": {
        "id": "pCPKDjJ3wGfs"
      },
      "execution_count": 3,
      "outputs": []
    },
    {
      "cell_type": "code",
      "source": [
        "# calculate frechet inception distance\n",
        "def calculate_fid(model, images1, images2, batch_size=2):\n",
        "    act1_list = []\n",
        "    act2_list = []\n",
        "    for i in range(0, len(images1), batch_size):\n",
        "        batch_images1 = images1[i:i+batch_size]\n",
        "        batch_images2 = images2[i:i+batch_size]\n",
        "\n",
        "        act1_batch = model.predict(batch_images1)\n",
        "        act2_batch = model.predict(batch_images2)\n",
        "\n",
        "        act1_list.append(act1_batch)\n",
        "        act2_list.append(act2_batch)\n",
        "\n",
        "    act1 = np.concatenate(act1_list, axis=0)\n",
        "    act2 = np.concatenate(act2_list, axis=0)\n",
        "\n",
        "    # calculate mean and covariance statistics\n",
        "    mu1, sigma1 = act1.mean(axis=0), cov(act1, rowvar=False)\n",
        "    mu2, sigma2 = act2.mean(axis=0), cov(act2, rowvar=False)\n",
        "\n",
        "    # calculate sum squared difference between means\n",
        "    ssdiff = np.sum((mu1 - mu2)**2.0)\n",
        "\n",
        "    # calculate sqrt of product between cov\n",
        "    covmean = sqrtm(sigma1.dot(sigma2))\n",
        "\n",
        "    # check and correct imaginary numbers from sqrt\n",
        "    if iscomplexobj(covmean):\n",
        "        covmean = covmean.real\n",
        "\n",
        "    # calculate score\n",
        "    fid = ssdiff + trace(sigma1 + sigma2 - 2.0 * covmean)\n",
        "    return fid"
      ],
      "metadata": {
        "id": "5SceV5PUwIYX"
      },
      "execution_count": 6,
      "outputs": []
    },
    {
      "cell_type": "code",
      "source": [
        "model = InceptionV3(include_top=False, pooling='avg', input_shape=(299,299,3))\n",
        "\n",
        "# Load images from local folders\n",
        "content_images_dir = \"/content/gdrive/MyDrive/validation_images_10\"\n",
        "transformed_images_dir = \"/content/gdrive/MyDrive/validation_transferred_10\"\n",
        "transformed_images_dir_mine = \"/content/gdrive/MyDrive/validation_transferred_10_mine\"\n",
        "\n",
        "content_images = []\n",
        "transformed_images = []\n",
        "transformed_images_mine = []\n",
        "\n",
        "for image_file in os.listdir(content_images_dir):\n",
        "    image_path = os.path.join(content_images_dir, image_file)\n",
        "    image = Image.open(image_path).convert(\"RGB\")\n",
        "    image = np.array(image)\n",
        "    content_images.append(image)\n",
        "\n",
        "    transformed_image_path = os.path.join(transformed_images_dir, image_file)\n",
        "    transformed_image = Image.open(transformed_image_path).convert(\"RGB\")\n",
        "    transformed_image = np.array(transformed_image)\n",
        "    transformed_images.append(transformed_image)\n",
        "\n",
        "    transformed_image_path_mine = os.path.join(transformed_images_dir_mine, image_file)\n",
        "    transformed_image_2 = Image.open(transformed_image_path_mine).convert(\"RGB\")\n",
        "    transformed_image_2 = np.array(transformed_image_2)\n",
        "    transformed_images_mine.append(transformed_image_2)\n",
        "\n",
        "content_images = np.array(content_images)\n",
        "transformed_images = np.array(transformed_images)\n",
        "transformed_images_mine = np.array(transformed_images_mine)\n",
        "\n",
        "# convert integer to floating point values\n",
        "images1 = content_images.astype('float32')\n",
        "images2 = transformed_images.astype('float32')\n",
        "images3 = transformed_images_mine.astype('float32')\n",
        "\n",
        "# resize images\n",
        "images1 = scale_images(images1, (299,299,3))\n",
        "images2 = scale_images(images2, (299,299,3))\n",
        "images3 = scale_images(images3, (299,299,3))\n",
        "\n",
        "# pre-process images\n",
        "images1 = preprocess_input(images1)\n",
        "images2 = preprocess_input(images2)\n",
        "images3 = preprocess_input(images3)\n",
        "\n",
        "batch_size = 2\n",
        "fid = calculate_fid(model, images1, images2, batch_size)\n",
        "print('FID of original method: %.3f' % fid)\n",
        "\n",
        "# Clear TensorFlow session to release GPU memory\n",
        "tf.keras.backend.clear_session()\n",
        "\n",
        "fid = calculate_fid(model, images1, images3, batch_size)\n",
        "print('FID of my method: %.3f' % fid)"
      ],
      "metadata": {
        "colab": {
          "base_uri": "https://localhost:8080/"
        },
        "id": "IyaoKzMdtsEl",
        "outputId": "17415649-652d-44fd-952f-7a6ab1e16f4d"
      },
      "execution_count": 7,
      "outputs": [
        {
          "output_type": "stream",
          "name": "stdout",
          "text": [
            "1/1 [==============================] - 1s 1s/step\n",
            "1/1 [==============================] - 0s 31ms/step\n",
            "1/1 [==============================] - 0s 33ms/step\n",
            "1/1 [==============================] - 0s 29ms/step\n",
            "1/1 [==============================] - 0s 26ms/step\n",
            "1/1 [==============================] - 0s 28ms/step\n",
            "1/1 [==============================] - 0s 29ms/step\n",
            "1/1 [==============================] - 0s 26ms/step\n",
            "1/1 [==============================] - 0s 31ms/step\n",
            "1/1 [==============================] - 0s 27ms/step\n",
            "FID of original method: 459.828\n",
            "1/1 [==============================] - 1s 512ms/step\n",
            "1/1 [==============================] - 0s 29ms/step\n",
            "1/1 [==============================] - 0s 28ms/step\n",
            "1/1 [==============================] - 0s 28ms/step\n",
            "1/1 [==============================] - 0s 28ms/step\n",
            "1/1 [==============================] - 0s 26ms/step\n",
            "1/1 [==============================] - 0s 29ms/step\n",
            "1/1 [==============================] - 0s 35ms/step\n",
            "1/1 [==============================] - 0s 28ms/step\n",
            "1/1 [==============================] - 0s 28ms/step\n",
            "FID of my method: 364.391\n"
          ]
        }
      ]
    }
  ]
}