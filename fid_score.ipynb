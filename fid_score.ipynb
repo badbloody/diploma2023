{
  "nbformat": 4,
  "nbformat_minor": 0,
  "metadata": {
    "colab": {
      "provenance": [],
      "gpuType": "T4",
      "authorship_tag": "ABX9TyM2rJlwbbzik5j+0/QqJYAK",
      "include_colab_link": true
    },
    "kernelspec": {
      "name": "python3",
      "display_name": "Python 3"
    },
    "language_info": {
      "name": "python"
    },
    "accelerator": "GPU"
  },
  "cells": [
    {
      "cell_type": "markdown",
      "metadata": {
        "id": "view-in-github",
        "colab_type": "text"
      },
      "source": [
        "<a href=\"https://colab.research.google.com/github/badbloody/diploma2023/blob/main/fid_score.ipynb\" target=\"_parent\"><img src=\"https://colab.research.google.com/assets/colab-badge.svg\" alt=\"Open In Colab\"/></a>"
      ]
    },
    {
      "cell_type": "markdown",
      "source": [
        "# Connecting to Drive"
      ],
      "metadata": {
        "id": "saCqR3zsro0U"
      }
    },
    {
      "cell_type": "code",
      "source": [
        "from google.colab import drive\n",
        "drive.mount('/content/gdrive')"
      ],
      "metadata": {
        "colab": {
          "base_uri": "https://localhost:8080/"
        },
        "id": "HT75BfvIAHbc",
        "outputId": "a5612ef0-bda8-41f6-d013-464541887640"
      },
      "execution_count": 1,
      "outputs": [
        {
          "output_type": "stream",
          "name": "stdout",
          "text": [
            "Mounted at /content/gdrive\n"
          ]
        }
      ]
    },
    {
      "cell_type": "markdown",
      "source": [
        "# Importing the needed libraries"
      ],
      "metadata": {
        "id": "OaNmUDwbrrSh"
      }
    },
    {
      "cell_type": "code",
      "source": [
        "import numpy as np\n",
        "import tensorflow as tf\n",
        "from numpy import cov\n",
        "from numpy import trace\n",
        "from numpy import iscomplexobj\n",
        "from numpy import asarray\n",
        "from numpy.random import shuffle\n",
        "from scipy.linalg import sqrtm\n",
        "from keras.applications.inception_v3 import InceptionV3\n",
        "from keras.applications.inception_v3 import preprocess_input\n",
        "from skimage.transform import resize\n",
        "import os\n",
        "from PIL import Image"
      ],
      "metadata": {
        "id": "WY5o1FywwFaL"
      },
      "execution_count": 2,
      "outputs": []
    },
    {
      "cell_type": "markdown",
      "source": [
        "# A function for rescaling the images"
      ],
      "metadata": {
        "id": "u9cKks5YrujL"
      }
    },
    {
      "cell_type": "code",
      "source": [
        "# scale an array of images to a new size\n",
        "def scale_images(images, new_shape):\n",
        "    images_list = list()\n",
        "    for image in images:\n",
        "        # resize with nearest neighbor interpolation\n",
        "        new_image = resize(image, new_shape, 0)\n",
        "\n",
        "        # store\n",
        "        images_list.append(new_image)\n",
        "    return asarray(images_list)"
      ],
      "metadata": {
        "id": "pCPKDjJ3wGfs"
      },
      "execution_count": 3,
      "outputs": []
    },
    {
      "cell_type": "markdown",
      "source": [
        "# A function that calculates the FID score between two image sets:"
      ],
      "metadata": {
        "id": "4ne9jv5Jry6t"
      }
    },
    {
      "cell_type": "code",
      "source": [
        "# calculate frechet inception distance\n",
        "def calculate_fid(model, images1, images2, batch_size=2):\n",
        "    act1_list = []\n",
        "    act2_list = []\n",
        "    for i in range(0, len(images1), batch_size):\n",
        "        batch_images1 = images1[i:i+batch_size]\n",
        "        batch_images2 = images2[i:i+batch_size]\n",
        "\n",
        "        act1_batch = model.predict(batch_images1)\n",
        "        act2_batch = model.predict(batch_images2)\n",
        "\n",
        "        act1_list.append(act1_batch)\n",
        "        act2_list.append(act2_batch)\n",
        "\n",
        "    act1 = np.concatenate(act1_list, axis=0)\n",
        "    act2 = np.concatenate(act2_list, axis=0)\n",
        "\n",
        "    # calculate mean and covariance statistics\n",
        "    mu1, sigma1 = act1.mean(axis=0), cov(act1, rowvar=False)\n",
        "    mu2, sigma2 = act2.mean(axis=0), cov(act2, rowvar=False)\n",
        "\n",
        "    # calculate sum squared difference between means\n",
        "    ssdiff = np.sum((mu1 - mu2)**2.0)\n",
        "\n",
        "    # calculate sqrt of product between cov\n",
        "    covmean = sqrtm(sigma1.dot(sigma2))\n",
        "\n",
        "    # check and correct imaginary numbers from sqrt\n",
        "    if iscomplexobj(covmean):\n",
        "        covmean = covmean.real\n",
        "\n",
        "    # calculate score\n",
        "    fid = ssdiff + trace(sigma1 + sigma2 - 2.0 * covmean)\n",
        "    return fid"
      ],
      "metadata": {
        "id": "5SceV5PUwIYX"
      },
      "execution_count": 4,
      "outputs": []
    },
    {
      "cell_type": "markdown",
      "source": [
        "# The main function that loads the images and calls the other functions to calculate the FID"
      ],
      "metadata": {
        "id": "IN23wKfor6-I"
      }
    },
    {
      "cell_type": "code",
      "source": [
        "def FID(content_images_dir, transferred_og, transferred_mine):\n",
        "    model = InceptionV3(include_top=False, pooling='avg', input_shape=(299,299,3))\n",
        "\n",
        "    # Load images from local folders\n",
        "    content_images_dir = content_images_dir\n",
        "    transformed_images_dir = transferred_og\n",
        "    transformed_images_dir_mine = transferred_mine\n",
        "\n",
        "    content_images = []\n",
        "    transformed_images = []\n",
        "    transformed_images_mine = []\n",
        "\n",
        "    for image_file in os.listdir(content_images_dir):\n",
        "      image_path = os.path.join(content_images_dir, image_file)\n",
        "      image = Image.open(image_path).convert(\"RGB\")\n",
        "      image = np.array(image)\n",
        "      content_images.append(image)\n",
        "\n",
        "      transformed_image_path = os.path.join(transformed_images_dir, image_file)\n",
        "      transformed_image = Image.open(transformed_image_path).convert(\"RGB\")\n",
        "      transformed_image = np.array(transformed_image)\n",
        "      transformed_images.append(transformed_image)\n",
        "\n",
        "      transformed_image_path_mine = os.path.join(transformed_images_dir_mine, image_file)\n",
        "      transformed_image_2 = Image.open(transformed_image_path_mine).convert(\"RGB\")\n",
        "      transformed_image_2 = np.array(transformed_image_2)\n",
        "      transformed_images_mine.append(transformed_image_2)\n",
        "\n",
        "    content_images = np.array(content_images)\n",
        "    transformed_images = np.array(transformed_images)\n",
        "    transformed_images_mine = np.array(transformed_images_mine)\n",
        "\n",
        "    # convert integer to floating point values\n",
        "    images1 = content_images.astype('float32')\n",
        "    images2 = transformed_images.astype('float32')\n",
        "    images3 = transformed_images_mine.astype('float32')\n",
        "\n",
        "    # resize images\n",
        "    images1 = scale_images(images1, (299,299,3))\n",
        "    images2 = scale_images(images2, (299,299,3))\n",
        "    images3 = scale_images(images3, (299,299,3))\n",
        "\n",
        "    # pre-process images\n",
        "    images1 = preprocess_input(images1)\n",
        "    images2 = preprocess_input(images2)\n",
        "    images3 = preprocess_input(images3)\n",
        "\n",
        "    batch_size = 2\n",
        "    fid_1 = calculate_fid(model, images1, images2, batch_size)\n",
        "    print('FID of original method: %.3f' % fid_1)\n",
        "\n",
        "    # Clear TensorFlow session to release GPU memory\n",
        "    tf.keras.backend.clear_session()\n",
        "\n",
        "    fid_2 = calculate_fid(model, images1, images3, batch_size)\n",
        "    print('FID of my method: %.3f' % fid_2)\n",
        "\n",
        "    return fid_1, fid_2"
      ],
      "metadata": {
        "id": "IyaoKzMdtsEl"
      },
      "execution_count": 5,
      "outputs": []
    },
    {
      "cell_type": "code",
      "source": [
        "\"\"\" define the paths to the image directories here \"\"\"\n",
        "content_images_dir = \"/content/gdrive/MyDrive/experimentPics/validation_images\"\n",
        "\n",
        "# the sketches\n",
        "transferred_sketches_og = \"/content/gdrive/MyDrive/experimentPics/validation_transferred_OG_sketches\"\n",
        "transferred_sketches_mine = \"/content/gdrive/MyDrive/experimentPics/validation_transferred_MINE_sketches\"\n",
        "\n",
        "print(\"Sketches FID: \")\n",
        "fid_sketches_og, fid_sketches_mine = FID(content_images_dir, transferred_sketches_og, transferred_sketches_mine)\n",
        "\n",
        "# portraits\n",
        "transferred_portraits_og = \"/content/gdrive/MyDrive/experimentPics/validation_transferred_OG_portraits\"\n",
        "transferred_portraits_mine = \"/content/gdrive/MyDrive/experimentPics/validation_transferred_MINE_portraits\"\n",
        "\n",
        "print(\"Portraits FID: \")\n",
        "fid_portraits_og, fid_portraits_mine = FID(content_images_dir, transferred_portraits_og, transferred_portraits_mine)\n",
        "\n",
        "# liquified portraits\n",
        "transferred_liquify_og = \"/content/gdrive/MyDrive/experimentPics/validation_transferred_OG_liquify\"\n",
        "transferred_liquify_mine = \"/content/gdrive/MyDrive/experimentPics/validation_transferred_MINE_liquify\"\n",
        "\n",
        "print(\"Liquify FID: \")\n",
        "fid_liquify_og, fid_liquify_mine = FID(content_images_dir, transferred_liquify_og, transferred_liquify_mine)\n"
      ],
      "metadata": {
        "id": "dv9XFrTJcafR",
        "colab": {
          "base_uri": "https://localhost:8080/"
        },
        "outputId": "c22d4d90-f41a-4ceb-8bd9-9b8e276bf2ee"
      },
      "execution_count": 6,
      "outputs": [
        {
          "output_type": "stream",
          "name": "stdout",
          "text": [
            "Sketches FID: \n",
            "Downloading data from https://storage.googleapis.com/tensorflow/keras-applications/inception_v3/inception_v3_weights_tf_dim_ordering_tf_kernels_notop.h5\n",
            "87910968/87910968 [==============================] - 0s 0us/step\n",
            "1/1 [==============================] - 2s 2s/step\n",
            "1/1 [==============================] - 0s 493ms/step\n",
            "1/1 [==============================] - 0s 477ms/step\n",
            "1/1 [==============================] - 0s 489ms/step\n",
            "1/1 [==============================] - 0s 469ms/step\n",
            "1/1 [==============================] - 0s 466ms/step\n",
            "1/1 [==============================] - 0s 469ms/step\n",
            "1/1 [==============================] - 0s 466ms/step\n",
            "1/1 [==============================] - 0s 466ms/step\n",
            "1/1 [==============================] - 0s 469ms/step\n",
            "FID of original method: 473.806\n",
            "1/1 [==============================] - 2s 2s/step\n",
            "1/1 [==============================] - 0s 453ms/step\n",
            "1/1 [==============================] - 0s 469ms/step\n",
            "1/1 [==============================] - 0s 450ms/step\n",
            "1/1 [==============================] - 0s 476ms/step\n",
            "1/1 [==============================] - 0s 484ms/step\n",
            "1/1 [==============================] - 0s 476ms/step\n",
            "1/1 [==============================] - 0s 462ms/step\n",
            "1/1 [==============================] - 0s 451ms/step\n",
            "1/1 [==============================] - 0s 465ms/step\n",
            "FID of my method: 482.503\n",
            "Portraits FID: \n",
            "1/1 [==============================] - 2s 2s/step\n",
            "1/1 [==============================] - 0s 472ms/step\n",
            "1/1 [==============================] - 0s 478ms/step\n",
            "1/1 [==============================] - 0s 460ms/step\n",
            "1/1 [==============================] - 0s 473ms/step\n",
            "1/1 [==============================] - 1s 714ms/step\n",
            "1/1 [==============================] - 1s 864ms/step\n",
            "1/1 [==============================] - 1s 880ms/step\n",
            "1/1 [==============================] - 1s 686ms/step\n",
            "1/1 [==============================] - 0s 457ms/step\n",
            "FID of original method: 482.830\n",
            "1/1 [==============================] - 1s 1s/step\n",
            "1/1 [==============================] - 0s 472ms/step\n",
            "1/1 [==============================] - 0s 456ms/step\n",
            "1/1 [==============================] - 0s 486ms/step\n",
            "1/1 [==============================] - 0s 478ms/step\n",
            "1/1 [==============================] - 0s 469ms/step\n",
            "1/1 [==============================] - 0s 466ms/step\n",
            "1/1 [==============================] - 0s 463ms/step\n",
            "1/1 [==============================] - 1s 502ms/step\n",
            "1/1 [==============================] - 1s 702ms/step\n",
            "FID of my method: 417.227\n",
            "Liquify FID: \n",
            "1/1 [==============================] - 2s 2s/step\n",
            "1/1 [==============================] - 1s 844ms/step\n",
            "1/1 [==============================] - 1s 878ms/step\n",
            "1/1 [==============================] - 0s 449ms/step\n",
            "1/1 [==============================] - 0s 476ms/step\n",
            "1/1 [==============================] - 0s 457ms/step\n",
            "1/1 [==============================] - 0s 454ms/step\n",
            "1/1 [==============================] - 0s 468ms/step\n",
            "1/1 [==============================] - 0s 460ms/step\n",
            "1/1 [==============================] - 0s 461ms/step\n",
            "FID of original method: 472.786\n",
            "1/1 [==============================] - 1s 1s/step\n",
            "1/1 [==============================] - 0s 487ms/step\n",
            "1/1 [==============================] - 0s 462ms/step\n",
            "1/1 [==============================] - 0s 475ms/step\n",
            "1/1 [==============================] - 0s 465ms/step\n",
            "1/1 [==============================] - 1s 733ms/step\n",
            "1/1 [==============================] - 1s 1s/step\n",
            "1/1 [==============================] - 1s 918ms/step\n",
            "1/1 [==============================] - 1s 706ms/step\n",
            "1/1 [==============================] - 0s 473ms/step\n",
            "FID of my method: 483.101\n"
          ]
        }
      ]
    },
    {
      "cell_type": "code",
      "source": [
        "og_average = (fid_sketches_og + fid_portraits_og + fid_liquify_og)/3\n",
        "my_average = (fid_sketches_mine + fid_portraits_mine + fid_liquify_mine)/3\n",
        "\n",
        "print(\"FID scores (OG Model)\")\n",
        "print(\"Sketches:  %.3f\" % fid_sketches_og)\n",
        "print(\"Portraits:  %.3f\" % fid_portraits_og)\n",
        "print(\"Liquify:  %.3f\" % fid_liquify_og)\n",
        "print(\"FID AVERAGE: %.3f\" % og_average)\n",
        "print(\"-\"*25)\n",
        "print(\"FID scores (My Model)\")\n",
        "print(\"Sketches:  %.3f\" % fid_sketches_mine)\n",
        "print(\"Portraits:  %.3f\" % fid_portraits_mine)\n",
        "print(\"Liquify:  %.3f\" % fid_liquify_mine)\n",
        "print(\"FID AVERAGE: %.3f\" %my_average)\n"
      ],
      "metadata": {
        "colab": {
          "base_uri": "https://localhost:8080/"
        },
        "id": "e2LNRlgfxLYo",
        "outputId": "082ef2be-f2cb-41c0-cc58-96a1264ff554"
      },
      "execution_count": 14,
      "outputs": [
        {
          "output_type": "stream",
          "name": "stdout",
          "text": [
            "FID scores (OG Model)\n",
            "Sketches:  473.806\n",
            "Portraits:  482.830\n",
            "Liquify:  472.786\n",
            "FID AVERAGE: 476.474\n",
            "-------------------------\n",
            "FID scores (My Model)\n",
            "Sketches:  482.503\n",
            "Portraits:  417.227\n",
            "Liquify:  483.101\n",
            "FID AVERAGE: 460.943\n"
          ]
        }
      ]
    },
    {
      "cell_type": "code",
      "source": [],
      "metadata": {
        "id": "Y0fC_Ck0xPH-"
      },
      "execution_count": null,
      "outputs": []
    }
  ]
}