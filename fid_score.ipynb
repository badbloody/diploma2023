{
  "nbformat": 4,
  "nbformat_minor": 0,
  "metadata": {
    "colab": {
      "provenance": [],
      "gpuType": "T4",
      "authorship_tag": "ABX9TyPbpZbUDKUMWmS8Hw22szcB",
      "include_colab_link": true
    },
    "kernelspec": {
      "name": "python3",
      "display_name": "Python 3"
    },
    "language_info": {
      "name": "python"
    },
    "accelerator": "GPU"
  },
  "cells": [
    {
      "cell_type": "markdown",
      "metadata": {
        "id": "view-in-github",
        "colab_type": "text"
      },
      "source": [
        "<a href=\"https://colab.research.google.com/github/badbloody/diploma2023/blob/main/fid_score.ipynb\" target=\"_parent\"><img src=\"https://colab.research.google.com/assets/colab-badge.svg\" alt=\"Open In Colab\"/></a>"
      ]
    },
    {
      "cell_type": "code",
      "source": [
        "# example of calculating the frechet inception distance in Keras for cifar10\n",
        "import numpy\n",
        "import numpy as np\n",
        "import tensorflow as tf\n",
        "from numpy import cov\n",
        "from numpy import trace\n",
        "from numpy import iscomplexobj\n",
        "from numpy import asarray\n",
        "from numpy.random import shuffle\n",
        "from scipy.linalg import sqrtm\n",
        "from keras.applications.inception_v3 import InceptionV3\n",
        "from keras.applications.inception_v3 import preprocess_input\n",
        "from keras.datasets.mnist import load_data\n",
        "from skimage.transform import resize\n",
        "from keras.datasets import cifar10\n",
        "\n",
        "# scale an array of images to a new size\n",
        "def scale_images(images, new_shape):\n",
        " images_list = list()\n",
        " for image in images:\n",
        "    # resize with nearest neighbor interpolation\n",
        "    new_image = resize(image, new_shape, 0)\n",
        "\n",
        "    # store\n",
        "    images_list.append(new_image)\n",
        " return asarray(images_list)\n",
        "\n",
        "# calculate frechet inception distance\n",
        "def calculate_fid(model, images1, images2, batch_size=32):\n",
        "  act1_list = []\n",
        "  act2_list = []\n",
        "  for i in range(0, len(images1), batch_size):\n",
        "      batch_images1 = images1[i:i+batch_size]\n",
        "      batch_images2 = images2[i:i+batch_size]\n",
        "\n",
        "      act1_batch = model.predict(batch_images1)\n",
        "      act2_batch = model.predict(batch_images2)\n",
        "\n",
        "      act1_list.append(act1_batch)\n",
        "      act2_list.append(act2_batch)\n",
        "\n",
        "  act1 = np.concatenate(act1_list, axis=0)\n",
        "  act2 = np.concatenate(act2_list, axis=0)\n",
        "\n",
        "  # calculate mean and covariance statistics\n",
        "  mu1, sigma1 = act1.mean(axis=0), cov(act1, rowvar=False)\n",
        "  mu2, sigma2 = act2.mean(axis=0), cov(act2, rowvar=False)\n",
        "\n",
        "  # calculate sum squared difference between means\n",
        "  ssdiff = numpy.sum((mu1 - mu2)**2.0)\n",
        "\n",
        "  # calculate sqrt of product between cov\n",
        "  covmean = sqrtm(sigma1.dot(sigma2))\n",
        "\n",
        "  # check and correct imaginary numbers from sqrt\n",
        "  if iscomplexobj(covmean):\n",
        "    covmean = covmean.real\n",
        "\n",
        "  # calculate score\n",
        "  fid = ssdiff + trace(sigma1 + sigma2 - 2.0 * covmean)\n",
        "  return fid\n",
        "\n",
        "model = InceptionV3(include_top=False, pooling='avg', input_shape=(299,299,3))\n",
        "\n",
        "# load cifar10 images\n",
        "(images1, _), (images2, _) = cifar10.load_data()\n",
        "shuffle(images1)\n",
        "shuffle(images2)\n",
        "images1 = images1[:10]\n",
        "images2 = images2[:10]\n",
        "print('Loaded', images1.shape, images2.shape)\n",
        "\n",
        "# convert integer to floating point values\n",
        "images1 = images1.astype('float32')\n",
        "images2 = images2.astype('float32')\n",
        "\n",
        "# resize images\n",
        "images1 = scale_images(images1, (299,299,3))\n",
        "images2 = scale_images(images2, (299,299,3))\n",
        "print('Scaled', images1.shape, images2.shape)\n",
        "\n",
        "# pre-process images\n",
        "images1 = preprocess_input(images1)\n",
        "images2 = preprocess_input(images2)\n",
        "\n",
        "batch_size = 32\n",
        "fid = calculate_fid(model, images1, images2, batch_size)\n",
        "print('FID: %.3f' % fid)\n",
        "\n",
        "# Clear TensorFlow session to release GPU memory\n",
        "tf.keras.backend.clear_session()"
      ],
      "metadata": {
        "colab": {
          "base_uri": "https://localhost:8080/"
        },
        "id": "2GUi896erQqo",
        "outputId": "46b4c91d-e181-43c9-f7c2-e2f39296fbf0"
      },
      "execution_count": 3,
      "outputs": [
        {
          "output_type": "stream",
          "name": "stdout",
          "text": [
            "Loaded (10, 32, 32, 3) (10, 32, 32, 3)\n",
            "Scaled (10, 299, 299, 3) (10, 299, 299, 3)\n",
            "1/1 [==============================] - 1s 1s/step\n",
            "1/1 [==============================] - 0s 34ms/step\n",
            "FID: 361.146\n"
          ]
        }
      ]
    }
  ]
}