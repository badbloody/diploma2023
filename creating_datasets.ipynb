{
  "nbformat": 4,
  "nbformat_minor": 0,
  "metadata": {
    "colab": {
      "provenance": [],
      "gpuType": "T4",
      "authorship_tag": "ABX9TyPZ5glA8xfOgT4xTVNxxyBv",
      "include_colab_link": true
    },
    "kernelspec": {
      "name": "python3",
      "display_name": "Python 3"
    },
    "language_info": {
      "name": "python"
    },
    "accelerator": "GPU"
  },
  "cells": [
    {
      "cell_type": "markdown",
      "metadata": {
        "id": "view-in-github",
        "colab_type": "text"
      },
      "source": [
        "<a href=\"https://colab.research.google.com/github/badbloody/diploma2023/blob/main/creating_datasets.ipynb\" target=\"_parent\"><img src=\"https://colab.research.google.com/assets/colab-badge.svg\" alt=\"Open In Colab\"/></a>"
      ]
    },
    {
      "cell_type": "markdown",
      "source": [
        "# Importing the needed libraries"
      ],
      "metadata": {
        "id": "Ttizvclow9np"
      }
    },
    {
      "cell_type": "code",
      "source": [
        "import requests\n",
        "import os\n",
        "import shutil\n",
        "import zipfile\n",
        "import random\n",
        "\n",
        "import torchvision\n",
        "import torchvision.transforms as transforms\n",
        "import torchvision.models as models"
      ],
      "metadata": {
        "id": "aJ51dOYoxBuO"
      },
      "execution_count": 1,
      "outputs": []
    },
    {
      "cell_type": "markdown",
      "source": [
        "Connecting to Google Drive so we can safely store our downloaded images without them disappearing after the Colab session is over"
      ],
      "metadata": {
        "id": "fQ1OtGFQ4VTD"
      }
    },
    {
      "cell_type": "code",
      "source": [
        "from google.colab import drive\n",
        "drive.mount('/content/gdrive')"
      ],
      "metadata": {
        "colab": {
          "base_uri": "https://localhost:8080/"
        },
        "id": "KA9vEqte4UYd",
        "outputId": "23c0ac97-a171-4d19-979e-b5ff1e936512"
      },
      "execution_count": 3,
      "outputs": [
        {
          "output_type": "stream",
          "name": "stdout",
          "text": [
            "Mounted at /content/gdrive\n"
          ]
        }
      ]
    },
    {
      "cell_type": "markdown",
      "source": [
        "# Defining parameters"
      ],
      "metadata": {
        "id": "KAYeJ1YFqpup"
      }
    },
    {
      "cell_type": "code",
      "source": [
        "\"\"\" PARAMETERS \"\"\"\n",
        "number_of_images = 10 # how many images from the COCO dataset, which will be used as content images, you want to download\n",
        "dataset_dir = \"/content/gdrive/MyDrive/content_dataset\" # where you want to save the content images\n",
        "train_ratio_content = 0.95 # the ratio of content images you want to use for training\n",
        "train_ratio_style = 0.8 # the ratio of style images you want to use for training"
      ],
      "metadata": {
        "id": "XJM34rAJrLZl"
      },
      "execution_count": 17,
      "outputs": []
    },
    {
      "cell_type": "code",
      "source": [
        "cnn_normalization_mean = [0.485, 0.456, 0.406]\n",
        "cnn_normalization_std = [0.229, 0.224, 0.225]\n",
        "width = 256\n",
        "\n",
        "data_transform = transforms.Compose([\n",
        "    transforms.Resize((256, 256)),\n",
        "    transforms.ToTensor(),\n",
        "    transforms.Normalize(mean=cnn_normalization_mean, std=cnn_normalization_std)\n",
        "])\n"
      ],
      "metadata": {
        "id": "X2sc82MV2pUr"
      },
      "execution_count": 5,
      "outputs": []
    },
    {
      "cell_type": "markdown",
      "source": [
        "Here we have defined a function that will download the desired number of content images from the COCO dataset and store them in the provided folder:"
      ],
      "metadata": {
        "id": "Mw7leMVCxcz2"
      }
    },
    {
      "cell_type": "code",
      "execution_count": 11,
      "metadata": {
        "id": "_dEb2uAAqRQd"
      },
      "outputs": [],
      "source": [
        "def download_and_extract_coco(dataset_dir, number_of_images):\n",
        "    # download annotations\n",
        "    annotations_url = \"http://images.cocodataset.org/annotations/annotations_trainval2017.zip\"\n",
        "    annotations_path = dataset_dir + \"/annotations.zip\"\n",
        "\n",
        "    # create the directory passed as the first argument\n",
        "    os.makedirs(dataset_dir, exist_ok=True)\n",
        "\n",
        "    # download annotations zip file\n",
        "    print(\"Downloading annotations...\")\n",
        "    response = requests.get(annotations_url, stream=True)\n",
        "    with open(annotations_path, \"wb\") as file:\n",
        "        shutil.copyfileobj(response.raw, file)\n",
        "\n",
        "    # extract the annotations\n",
        "    print(\"Extracting annotations...\")\n",
        "    with zipfile.ZipFile(annotations_path, \"r\") as zip_ref:\n",
        "        zip_ref.extractall(dataset_dir)\n",
        "\n",
        "    # download images\n",
        "    images_url = \"http://images.cocodataset.org/zips/train2017.zip\"\n",
        "    images_path = dataset_dir + \"/images.zip\"\n",
        "\n",
        "    # Download images zip file\n",
        "    print(\"Downloading images...\")\n",
        "    response = requests.get(images_url, stream=True)\n",
        "    with open(images_path, \"wb\") as file:\n",
        "        shutil.copyfileobj(response.raw, file)\n",
        "\n",
        "    # extracting images\n",
        "    print(\"Extracting images...\")\n",
        "    with zipfile.ZipFile(images_path, \"r\") as zip_ref:\n",
        "        # extracting only the specified number of images\n",
        "        selected_images = zip_ref.infolist()[:number_of_images]\n",
        "        zip_ref.extractall(dataset_dir, members=selected_images)\n",
        "\n",
        "    # removing the files afterwards\n",
        "    os.remove(annotations_path)\n",
        "    os.remove(images_path)\n",
        "\n",
        "    print(\"Done!\")"
      ]
    },
    {
      "cell_type": "markdown",
      "source": [
        "A helper function that splits the dataset into training and validation subsets\n"
      ],
      "metadata": {
        "id": "YH7Ok_uRxo-6"
      }
    },
    {
      "cell_type": "code",
      "source": [
        "def split_dataset(dataset_dir, train_ratio):\n",
        "    # create directories for train and validation sets\n",
        "    if \"/train2017\" in dataset_dir:\n",
        "      train_dir = dataset_dir.replace(\"/train2017\", \"_train\")\n",
        "      val_dir = dataset_dir.replace(\"/train2017\", \"_val\")\n",
        "    else:\n",
        "      train_dir = dataset_dir + \"_train\"\n",
        "      val_dir = dataset_dir + \"_val\"\n",
        "\n",
        "    os.makedirs(train_dir, exist_ok=True)\n",
        "    os.makedirs(val_dir, exist_ok=True)\n",
        "\n",
        "    # get the list of files in the dataset directory\n",
        "    files = os.listdir(dataset_dir)\n",
        "    random.shuffle(files)\n",
        "\n",
        "    # calculate the number of files for training and validation\n",
        "    total_files = len(files)\n",
        "    train_count = int(train_ratio * total_files)\n",
        "    val_count = total_files - train_count\n",
        "\n",
        "    # move files to the train and validation directories\n",
        "    for i, file in enumerate(files):\n",
        "        src_path = os.path.join(dataset_dir, file)\n",
        "        if i < train_count:\n",
        "            dst_path = os.path.join(train_dir, file)\n",
        "        else:\n",
        "            dst_path = os.path.join(val_dir, file)\n",
        "        shutil.move(src_path, dst_path) #move from source to destination path\n",
        "\n",
        "    print(\"Dataset has been split into train and validation sets!\")"
      ],
      "metadata": {
        "id": "k-AnbeWhw2yZ"
      },
      "execution_count": 36,
      "outputs": []
    },
    {
      "cell_type": "markdown",
      "source": [
        "A function to create a train folder inside our content folder - this is due to the library torchvision.datasets.Imagefolder needing there to be some classes within a folder in order to create a dataset"
      ],
      "metadata": {
        "id": "3PjKKXCUJgzg"
      }
    },
    {
      "cell_type": "code",
      "source": [
        "def move_files_within_folder(source_folder, destination_folder):\n",
        "    # Get the absolute paths for the source and destination folders\n",
        "    source_folder_abs = os.path.abspath(source_folder)\n",
        "    destination_folder_abs = os.path.join(source_folder_abs, destination_folder)\n",
        "\n",
        "    # Create the destination folder if it doesn't exist\n",
        "    if not os.path.exists(destination_folder_abs):\n",
        "        os.makedirs(destination_folder_abs)\n",
        "\n",
        "    # Get the list of files in the source folder\n",
        "    files = os.listdir(source_folder_abs)\n",
        "\n",
        "    for file_name in files:\n",
        "        # Get the absolute path of the current file\n",
        "        file_abs_path = os.path.join(source_folder_abs, file_name)\n",
        "\n",
        "        # Check if the current item is a file (not a directory)\n",
        "        if os.path.isfile(file_abs_path):\n",
        "            # Move the file to the destination folder\n",
        "            shutil.move(file_abs_path, os.path.join(destination_folder_abs, file_name))"
      ],
      "metadata": {
        "id": "HN7bFF6NGvFP"
      },
      "execution_count": 43,
      "outputs": []
    },
    {
      "cell_type": "code",
      "source": [
        "source_folder = dataset_dir + \"_train\"\n",
        "destination_folder = dataset_dir + \"_train/train\"\n",
        "\n",
        "move_files_within_folder(source_folder, destination_folder)"
      ],
      "metadata": {
        "id": "gWjs27EPInMW"
      },
      "execution_count": 44,
      "outputs": []
    },
    {
      "cell_type": "markdown",
      "source": [
        "# Creating the content dataset"
      ],
      "metadata": {
        "id": "j3ylqS-90ckt"
      }
    },
    {
      "cell_type": "code",
      "source": [
        "download_and_extract_coco(dataset_dir, number_of_images)\n",
        "split_dataset(dataset_dir+\"/train2017\", train_ratio_content)"
      ],
      "metadata": {
        "colab": {
          "base_uri": "https://localhost:8080/"
        },
        "id": "F_DRyKiA8V9E",
        "outputId": "691243be-950f-4ba5-b37a-b37ceabefc8b"
      },
      "execution_count": 37,
      "outputs": [
        {
          "output_type": "stream",
          "name": "stdout",
          "text": [
            "Downloading annotations...\n",
            "Extracting annotations...\n",
            "Downloading images...\n",
            "Extracting images...\n",
            "Done!\n"
          ]
        }
      ]
    },
    {
      "cell_type": "code",
      "source": [
        "content_dataset = torchvision.datasets.ImageFolder(root= dataset_dir + \"_train\", transform= data_transform)"
      ],
      "metadata": {
        "id": "azk6QjVQyYo3"
      },
      "execution_count": 45,
      "outputs": []
    },
    {
      "cell_type": "markdown",
      "source": [
        "# Creating the style dataset"
      ],
      "metadata": {
        "id": "7JWsTbdz2cGF"
      }
    },
    {
      "cell_type": "code",
      "source": [
        "!git clone https://github.com/badbloody/diplomskiSlike\n",
        "\n",
        "style_dataset = torchvision.datasets.ImageFolder('/content/gdrive/MyDrive/diplomskiSlike', transform= data_transform)"
      ],
      "metadata": {
        "colab": {
          "base_uri": "https://localhost:8080/"
        },
        "id": "hGgO8YgN2bn2",
        "outputId": "f3f7072c-af5d-4848-8641-8a441519d327"
      },
      "execution_count": 46,
      "outputs": [
        {
          "output_type": "stream",
          "name": "stdout",
          "text": [
            "Cloning into 'diplomskiSlike'...\n",
            "remote: Enumerating objects: 48, done.\u001b[K\n",
            "remote: Counting objects: 100% (6/6), done.\u001b[K\n",
            "remote: Compressing objects: 100% (5/5), done.\u001b[K\n",
            "remote: Total 48 (delta 1), reused 2 (delta 0), pack-reused 42\u001b[K\n",
            "Receiving objects: 100% (48/48), 89.31 MiB | 42.86 MiB/s, done.\n",
            "Resolving deltas: 100% (1/1), done.\n"
          ]
        }
      ]
    },
    {
      "cell_type": "markdown",
      "source": [
        "Now the content and style datasets are ready for the training stage."
      ],
      "metadata": {
        "id": "BZSsFitrKW7z"
      }
    }
  ]
}